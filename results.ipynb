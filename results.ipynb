{
 "cells": [
  {
   "cell_type": "code",
   "execution_count": null,
   "id": "93bc1346",
   "metadata": {},
   "outputs": [],
   "source": [
    "# Cell: Merge Gymnasium evaluation videos\n",
    "import os\n",
    "import moviepy\n",
    "from moviepy import VideoFileClip, concatenate_videoclips\n",
    "import re\n",
    "\n",
    "# --- Configuration ---\n",
    "input_folder = \"results_tmp/SAC/runs/SAC_BipedalWalker-v3_0/videos\"  # folder with videos\n",
    "output_file = \"merged.mp4\"  # merged video output\n",
    "\n",
    "# --- Helper to sort videos numerically by episode number ---\n",
    "def get_episode_number(filename):\n",
    "    \"\"\"\n",
    "    Extract episode number from 'rl-video-episode-X.mp4'\n",
    "    \"\"\"\n",
    "    match = re.search(r\"rl-video-episode-(\\d+)\\.mp4\", filename)\n",
    "    if match:\n",
    "        return int(match.group(1))\n",
    "    return float('inf')  # push unknown files to the end\n",
    "\n",
    "# --- List and sort videos ---\n",
    "video_files = sorted([f for f in os.listdir(input_folder) if f.endswith(\".mp4\")],\n",
    "                     key=get_episode_number)\n",
    "\n",
    "if not video_files:\n",
    "    print(f\"No mp4 videos found in {input_folder}\")\n",
    "else:\n",
    "    clips = []\n",
    "    for vf in video_files:\n",
    "        clip_path = os.path.join(input_folder, vf)\n",
    "        print(f\"Adding {clip_path}\")\n",
    "        clips.append(VideoFileClip(clip_path))\n",
    "\n",
    "    # Concatenate all clips\n",
    "    final_clip = concatenate_videoclips(clips, method=\"compose\")\n",
    "    final_clip.write_videofile(output_file, codec=\"libx264\", fps=30)\n",
    "\n",
    "    # Close all clips\n",
    "    for clip in clips:\n",
    "        clip.close()\n",
    "    final_clip.close()\n",
    "    print(f\"Merged video saved to {output_file}\")\n"
   ]
  }
 ],
 "metadata": {
  "kernelspec": {
   "display_name": "rl-timelapses",
   "language": "python",
   "name": "python3"
  },
  "language_info": {
   "codemirror_mode": {
    "name": "ipython",
    "version": 3
   },
   "file_extension": ".py",
   "mimetype": "text/x-python",
   "name": "python",
   "nbconvert_exporter": "python",
   "pygments_lexer": "ipython3",
   "version": "3.10.18"
  }
 },
 "nbformat": 4,
 "nbformat_minor": 5
}
